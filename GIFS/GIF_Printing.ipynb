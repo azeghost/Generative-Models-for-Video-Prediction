{
 "cells": [
  {
   "cell_type": "code",
   "execution_count": 2,
   "metadata": {},
   "outputs": [
    {
     "name": "stdout",
     "output_type": "stream",
     "text": [
      " ConvAE       ConvLSTMVAE   DenseGIAAE\t       original\r\n",
      " ConvGIAAE    ConvVAE\t    DenseVAE\t       TimeDistAE\r\n",
      " ConvLSTMAE   DenseAE\t   'Multi-Scale GAN'   TimeDistVAE\r\n"
     ]
    }
   ],
   "source": [
    "!ls pictures_predicted_v2\n"
   ]
  },
  {
   "cell_type": "code",
   "execution_count": 12,
   "metadata": {},
   "outputs": [],
   "source": [
    "#Sorter\n",
    "import re\n",
    "\n",
    "def tryint(s):\n",
    "    try:\n",
    "        return int(s)\n",
    "    except:\n",
    "        return s\n",
    "\n",
    "def alphanum_key(s):\n",
    "    \"\"\" Turn a string into a list of string and number chunks.\n",
    "        \"z23a\" -> [\"z\", 23, \"a\"]\n",
    "    \"\"\"\n",
    "    return [ tryint(c) for c in re.split('([0-9]+)', s) ]\n",
    "\n",
    "def sort_nicely(l):\n",
    "    \"\"\" Sort the given list in the way that humans expect.\n",
    "    \"\"\"\n",
    "    l.sort(key=alphanum_key)"
   ]
  },
  {
   "cell_type": "code",
   "execution_count": 13,
   "metadata": {},
   "outputs": [],
   "source": [
    "from os import listdir\n",
    "from PIL import Image\n",
    "import os\n",
    "from os.path import isfile, join\n",
    "def prepfiles(model_name):\n",
    "    img_dir = \"/home/azeghost/git/Grid printing/pictures_predicted_v2/{}\".format(model_name)\n",
    "    files = [ f for f in listdir(img_dir) if isfile(join(img_dir, f)) ]\n",
    "    sort_nicely(files)\n",
    "    return files, img_dir"
   ]
  },
  {
   "cell_type": "code",
   "execution_count": 7,
   "metadata": {},
   "outputs": [],
   "source": [
    "    \n",
    "import imageio"
   ]
  },
  {
   "cell_type": "code",
   "execution_count": 19,
   "metadata": {},
   "outputs": [],
   "source": [
    "import glob\n",
    "from PIL import Image\n",
    "\n",
    "# filepaths\n",
    "# fp_in = \"/path/to/image_*.png\"\n",
    "\n",
    "def create_gif(model_name):\n",
    "    fp_out = \"/home/azeghost/git/Grid printing/{}.gif\".format(model_name)\n",
    "\n",
    "    file_names, img_dir = prepfiles(model_name)\n",
    "\n",
    "    file_names = file_names[4:]\n",
    "#     print(file_names)\n",
    "    img, *imgs = [Image.open(os.path.join(img_dir,filename)) for filename in file_names]\n",
    "    img.save(fp=fp_out, format='GIF', append_images=imgs,\n",
    "             save_all=True, duration=200, loop=0)"
   ]
  },
  {
   "cell_type": "code",
   "execution_count": 21,
   "metadata": {},
   "outputs": [
    {
     "name": "stdout",
     "output_type": "stream",
     "text": [
      "['4.png', '5.jpg', '6.jpg', '7.jpg', '8.jpg', '9.jpg']\n",
      "['4.png', '5.jpg', '6.jpg', '7.jpg', '8.jpg', '9.jpg']\n",
      "['4.png', '5.jpg', '6.jpg', '7.jpg', '8.jpg', '9.jpg']\n",
      "['4.png', '5.jpg', '6.jpg', '7.jpg', '8.jpg', '9.jpg']\n",
      "['4.png', '5.jpg', '6.jpg', '7.jpg', '8.jpg', '9.jpg']\n",
      "['4.png', '5.jpg', '6.jpg', '7.jpg', '8.jpg', '9.jpg']\n",
      "['4.png', '5.jpg', '6.jpg', '7.jpg', '8.jpg', '9.jpg']\n",
      "['4.png', '5.jpg', '6.jpg', '7.jpg', '8.jpg', '9.jpg']\n",
      "['4.png', '5.jpg', '6.jpg', '7.jpg', '8.jpg', '9.jpg']\n",
      "['4.png', '5.jpg', '6.jpg', '7.jpg', '8.jpg', '9.jpg']\n",
      "['4.png', '5.jpg', '6.jpg', '7.jpg', '8.jpg', '9.jpg']\n"
     ]
    }
   ],
   "source": [
    "model_names = [  \"Multi-Scale GAN\", \"TimeDistAE\", \"TimeDistVAE\", \"ConvLSTMAE\", \"ConvLSTMVAE\"\n",
    ", \"ConvGIAAE\", \"DenseGIAAE\",\"ConvAE\", \"DenseAE\", \"ConvVAE\", \"DenseVAE\"]\n",
    "org =\"original\"\n",
    "for modelname in model_names:\n",
    "    create_gif(modelname)"
   ]
  }
 ],
 "metadata": {
  "kernelspec": {
   "display_name": "Python 3",
   "language": "python",
   "name": "python3"
  },
  "language_info": {
   "codemirror_mode": {
    "name": "ipython",
    "version": 3
   },
   "file_extension": ".py",
   "mimetype": "text/x-python",
   "name": "python",
   "nbconvert_exporter": "python",
   "pygments_lexer": "ipython3",
   "version": "3.8.5"
  }
 },
 "nbformat": 4,
 "nbformat_minor": 4
}
